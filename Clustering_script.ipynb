{
 "cells": [
  {
   "cell_type": "code",
   "execution_count": null,
   "id": "5071665f",
   "metadata": {},
   "outputs": [],
   "source": [
    "import pandas as pd\n",
    "import numpy as np\n",
    "import matplotlib.pyplot as plt\n",
    "import seaborn as sns\n",
    "import geopandas as gpd\n",
    "import folium\n",
    "import json\n",
    "import random\n",
    "import requests\n",
    "import ast\n",
    "import re\n",
    "import time\n",
    "import datetime\n",
    "from tqdm import tqdm\n",
    "from shapely.geometry import Point, LineString, mapping\n",
    "from sklearn.cluster import DBSCAN, KMeans\n",
    "from sklearn.ensemble import IsolationForest\n",
    "from sklearn.decomposition import PCA\n",
    "from sklearn.preprocessing import MinMaxScaler, PowerTransformer\n",
    "from sklearn.metrics import silhouette_score\n",
    "from scipy.stats import skew\n",
    "from scipy.spatial import ConvexHull\n",
    "from scipy.cluster.hierarchy import linkage, dendrogram, fcluster"
   ]
  },
  {
   "cell_type": "markdown",
   "id": "0ffd1b3c",
   "metadata": {},
   "source": [
    "# pre processing for cluster #"
   ]
  },
  {
   "cell_type": "code",
   "execution_count": null,
   "id": "8cbd1a6c",
   "metadata": {},
   "outputs": [],
   "source": [
    "# uploading clustering prepared dataframe\n",
    "df = pd.read_csv('final_to_cluster.csv')"
   ]
  },
  {
   "cell_type": "code",
   "execution_count": null,
   "id": "06db845a",
   "metadata": {},
   "outputs": [],
   "source": [
    "# dropping non useful columns\n",
    "df[\"MMSI_CHANGES\"] = df[\"MMSI_CHANGES\"].astype(int)\n",
    "df = df.drop(columns=[\"BUILT\"])\n",
    "df = df.drop(columns=[\"FLAGNAME\"])\n",
    "df = df.drop(columns=[\"Name\"])\n",
    "df = df.drop(columns=[\"Name_null\"])\n",
    "df = df.drop(columns=[\"IMO_null\"])\n",
    "df = df.drop(columns=[\"IMO\"])"
   ]
  },
  {
   "cell_type": "code",
   "execution_count": null,
   "id": "48a594ba",
   "metadata": {},
   "outputs": [],
   "source": [
    "# List of numerical features (including boolean columns)\n",
    "numerical_cols = [\n",
    "    'counts_slow_speed', 'sum_telco_slow', 'sum_power_slow', \n",
    "    'sum_gas_slow', 'counts_null_speed', \n",
    "    'sum_telco_null','sum_power_null','sum_gas_null', 'counts_cc', 'sum_telco_cc', 'sum_power_cc','sum_gas_cc', 'counts_zz', 'counts_dark','sum_telco_zz','sum_power_zz','sum_gas_zz','sum_telco_dark', \n",
    "    'sum_power_dark', 'sum_gas_dark',\n",
    "    'MMSI_CHANGES', 'OLDER15Y', 'FOC'\n",
    "]\n"
   ]
  },
  {
   "cell_type": "code",
   "execution_count": null,
   "id": "4b455acb",
   "metadata": {},
   "outputs": [],
   "source": [
    "# columns to be transformed\n",
    "transform_cols = [\n",
    "    'counts_slow_speed', 'sum_telco_slow', 'sum_power_slow', \n",
    "    'sum_gas_slow', 'counts_null_speed', \n",
    "    'sum_telco_null','sum_power_null','sum_gas_null', 'counts_cc', 'sum_telco_cc', 'sum_power_cc','sum_gas_cc', 'counts_zz', 'counts_dark','sum_telco_zz','sum_power_zz','sum_gas_zz','sum_telco_dark', \n",
    "    'sum_power_dark', 'sum_gas_dark'\n",
    "    \n",
    "]"
   ]
  },
  {
   "cell_type": "code",
   "execution_count": null,
   "id": "d107c58a",
   "metadata": {},
   "outputs": [],
   "source": [
    "\n",
    "\n",
    "# Apply Yeo-Johnson to stubborn columns\n",
    "pt = PowerTransformer(method='yeo-johnson')\n",
    "for col in transform_cols:\n",
    "    df[col] = pt.fit_transform(df[[col]])"
   ]
  },
  {
   "cell_type": "code",
   "execution_count": null,
   "id": "0fdc9d17",
   "metadata": {},
   "outputs": [],
   "source": [
    "#check skreweness of numerical columns\n",
    "skewness = df[numerical_cols].skew()\n",
    "print(skewness)"
   ]
  },
  {
   "cell_type": "code",
   "execution_count": null,
   "id": "29267da8",
   "metadata": {},
   "outputs": [],
   "source": [
    "#scaling numerical columns\n",
    "scaler = MinMaxScaler()\n",
    "X_scaled = scaler.fit_transform(df[numerical_cols])"
   ]
  },
  {
   "cell_type": "markdown",
   "id": "816a9fad",
   "metadata": {},
   "source": [
    "# k means #"
   ]
  },
  {
   "cell_type": "code",
   "execution_count": null,
   "id": "147aad61",
   "metadata": {},
   "outputs": [],
   "source": [
    "# finding optimal k with silhouette score and elbow method\n",
    "#defining the range of k values to test\n",
    "k_values = range(2, 10)\n",
    "inertia = []\n",
    "silhouette_scores = []\n",
    "\n",
    "for k in k_values:\n",
    "    kmeans = KMeans(n_clusters=k, random_state=42)\n",
    "    clusters = kmeans.fit_predict(X_scaled)  # X_scaled is your MinMax-scaled data\n",
    "    inertia.append(kmeans.inertia_)\n",
    "    silhouette_scores.append(silhouette_score(X_scaled, clusters))\n",
    "\n",
    "# Create side-by-side subplots\n",
    "fig, axs = plt.subplots(1, 2, figsize=(12, 5))\n",
    "\n",
    "# Elbow Method plot\n",
    "axs[0].plot(k_values, inertia, marker='o')\n",
    "axs[0].set_xlabel('Number of Clusters (k)')\n",
    "axs[0].set_ylabel('Inertia')\n",
    "axs[0].set_title('Elbow Method')\n",
    "\n",
    "# Silhouette Score plot\n",
    "axs[1].plot(k_values, silhouette_scores, marker='o', color='orange')\n",
    "axs[1].set_xlabel('Number of Clusters (k)')\n",
    "axs[1].set_ylabel('Silhouette Score')\n",
    "axs[1].set_title('Silhouette Scores')\n",
    "\n",
    "# Adjust layout and display\n",
    "plt.tight_layout()\n",
    "plt.show()"
   ]
  },
  {
   "cell_type": "code",
   "execution_count": null,
   "id": "df7e372c",
   "metadata": {},
   "outputs": [],
   "source": [
    "# kmeans with 2 clusters\n",
    "kmeans = KMeans(n_clusters=2, random_state=42)\n",
    "clusters = kmeans.fit_predict(X_scaled)\n",
    "df['cluster'] = clusters"
   ]
  },
  {
   "cell_type": "code",
   "execution_count": null,
   "id": "0405e76c",
   "metadata": {},
   "outputs": [],
   "source": [
    "#inspecting the kmeans cluster results\n",
    "summary = df.groupby('cluster').mean()\n",
    "print(summary)"
   ]
  },
  {
   "cell_type": "markdown",
   "id": "70611d35",
   "metadata": {},
   "source": [
    "# Hierarchical clustering #"
   ]
  },
  {
   "cell_type": "code",
   "execution_count": null,
   "id": "85539085",
   "metadata": {},
   "outputs": [],
   "source": [
    "# Assuming X_scaled is your MinMax-scaled data (as a numpy array or DataFrame)\n",
    "# 1. Compute the linkage matrix\n",
    "Z = linkage(X_scaled, method='ward')  \n",
    "\n",
    "# 2. Plot the dendrogram\n",
    "plt.figure(figsize=(12, 6))\n",
    "dendrogram(Z)\n",
    "plt.title('Hierarchical Clustering Dendrogram')\n",
    "plt.xlabel('Sample index')\n",
    "plt.ylabel('Distance')\n",
    "plt.show()\n",
    "\n",
    "# 3. setting two as the number of clusters \n",
    "clusters = fcluster(Z, t=2, criterion='maxclust')\n",
    "df['hierarchical_cluster'] = clusters"
   ]
  },
  {
   "cell_type": "code",
   "execution_count": null,
   "id": "2afc1431",
   "metadata": {},
   "outputs": [],
   "source": [
    "#inspecting hierarchical clustering results\n",
    "summary_h = df.groupby('hierarchical_cluster').mean()\n",
    "print(summary_h)"
   ]
  },
  {
   "cell_type": "code",
   "execution_count": null,
   "id": "879d3797",
   "metadata": {},
   "outputs": [],
   "source": [
    "# Kmeans Cluster: if 0 -> \"High\", if 1 -> \"Low\"\n",
    "df['cluster'] = df['cluster'].replace({1: 'High', 0: 'Low'})\n",
    "\n",
    "# Hierarchical_cluster: if 2 -> \"High\", if 1 -> \"Low\"\n",
    "df['hierarchical_cluster'] = df['hierarchical_cluster'].replace({1: 'Low', 2: 'High'})"
   ]
  },
  {
   "cell_type": "code",
   "execution_count": null,
   "id": "4ee62aa8",
   "metadata": {},
   "outputs": [],
   "source": [
    "# save the clustering results to a new CSV file\n",
    "df.to_csv('clustering_results.csv', index=False)"
   ]
  },
  {
   "cell_type": "markdown",
   "id": "a5afea08",
   "metadata": {},
   "source": [
    "# Validation #"
   ]
  },
  {
   "cell_type": "code",
   "execution_count": null,
   "id": "d9c3242d",
   "metadata": {},
   "outputs": [],
   "source": [
    "# uploading the main dataset\n",
    "master_df = pd.read_csv('traffic_df.csv')"
   ]
  },
  {
   "cell_type": "code",
   "execution_count": null,
   "id": "df004357",
   "metadata": {},
   "outputs": [],
   "source": [
    "#keep only the columns of interest\n",
    "master_df = master_df[['MMSI', 'IMO', 'NAME']]"
   ]
  },
  {
   "cell_type": "code",
   "execution_count": null,
   "id": "5db4789f",
   "metadata": {},
   "outputs": [],
   "source": [
    "#drop duplicates based on MMSI and IMO\n",
    "master_df = master_df.drop_duplicates(subset=['MMSI', 'IMO'])"
   ]
  },
  {
   "cell_type": "code",
   "execution_count": null,
   "id": "acdc4a26",
   "metadata": {},
   "outputs": [],
   "source": [
    "#merging dataset with main dataset\n",
    "merged_df = pd.merge(master_df, df, on=\"MMSI\", how=\"inner\")"
   ]
  },
  {
   "cell_type": "code",
   "execution_count": null,
   "id": "3b69d001",
   "metadata": {},
   "outputs": [],
   "source": [
    "# creating the list of IMO EU sanctioned vessels\n",
    "IMO_sanctioned = [\n",
    "    9179842, 8517839, 9915090, 9915105, 9353113, 9289520, 9402471, 9339337, 9318553, 9318541,\n",
    "    9333436, 9161003, 9358010, 9763837, 9763849, 9830769, 9259185, 9079169, 9331141, 9394935,\n",
    "    9331153, 9144782, 9277735, 9312884, 9270529, 9312896, 9341067, 9299666, 9256602, 9273052,\n",
    "    9323376, 9737187, 9413547, 9296391, 9274331, 9274343, 9385233, 9826902, 9511533, 9341081,\n",
    "    9306794, 9292204, 9299692, 9413561, 9333424, 9412347, 9610781, 9299898, 9422445, 9421972,\n",
    "    9265756, 9271585, 9842188, 9511521, 9412335, 9316127, 9327372, 9436941, 9849887, 9276030,\n",
    "    9610793, 9577082, 9577094, 9522324, 9382798, 9354301, 9354313, 9235713, 9321847, 9513139,\n",
    "    9321976, 9291250, 9866380, 9341079, 9281683, 9953535, 9953523, 9953509, 9953511, 9301419,\n",
    "    9412359, 9411020, 9901037, 9301421, 9301407, 9301380, 9301392, 9231212, 9350654, 9332822,\n",
    "    9251274, 9319703, 9404948, 9292503, 9346732, 9288710, 9288746, 9281891, 9276561, 9288708,\n",
    "    9321706, 9327413, 9332810, 9288693, 9843560, 9306782, 9258002, 9299719, 9256066, 9339301,\n",
    "    9322956, 9309576, 9329667, 9421960, 9752084, 9309588, 9258868, 9288851, 9194983, 9271951,\n",
    "    9332781, 9282479, 9281011, 9321689, 9255660, 9285835, 9318539, 9299769, 9258026, 9308065,\n",
    "    9409467, 9266475, 9209972, 9216298, 9360130, 9418494, 9286657, 9353096, 9413573, 9243148,\n",
    "    9286073, 9610810, 9282493, 9333400, 9388792, 9419137, 9610808, 9247431, 9288899, 9544281,\n",
    "    9317949, 9288722, 9397559\n",
    "]"
   ]
  },
  {
   "cell_type": "code",
   "execution_count": null,
   "id": "03e75840",
   "metadata": {},
   "outputs": [],
   "source": [
    "# cross-referencing the IMO sanctioned vessels with the merged dataframe\n",
    "sanctioned_df = merged_df[merged_df['IMO'].isin(IMO_sanctioned)]"
   ]
  },
  {
   "cell_type": "code",
   "execution_count": null,
   "id": "4d79fff9",
   "metadata": {},
   "outputs": [],
   "source": [
    "sanctioned_df[['MMSI', 'IMO', 'NAME', 'cluster', 'hierarchical_cluster']]"
   ]
  }
 ],
 "metadata": {
  "kernelspec": {
   "display_name": "Python 3",
   "language": "python",
   "name": "python3"
  },
  "language_info": {
   "codemirror_mode": {
    "name": "ipython",
    "version": 3
   },
   "file_extension": ".py",
   "mimetype": "text/x-python",
   "name": "python",
   "nbconvert_exporter": "python",
   "pygments_lexer": "ipython3",
   "version": "3.11.4"
  }
 },
 "nbformat": 4,
 "nbformat_minor": 5
}
