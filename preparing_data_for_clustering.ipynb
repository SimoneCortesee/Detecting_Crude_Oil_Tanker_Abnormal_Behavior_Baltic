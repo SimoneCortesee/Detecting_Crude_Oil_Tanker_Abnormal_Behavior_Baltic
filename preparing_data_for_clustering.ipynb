{
 "cells": [
  {
   "cell_type": "code",
   "execution_count": null,
   "id": "c8a14f64",
   "metadata": {},
   "outputs": [],
   "source": [
    "import ast\n",
    "import datetime\n",
    "import folium\n",
    "import geopandas as gpd\n",
    "import json\n",
    "import matplotlib.colors as mcolors\n",
    "import matplotlib.pyplot as plt\n",
    "import numpy as np\n",
    "import pandas as pd\n",
    "import random\n",
    "import re\n",
    "import requests\n",
    "import seaborn as sns\n",
    "import time\n",
    "from datetime import timedelta\n",
    "from scipy.spatial import ConvexHull\n",
    "from shapely.geometry import Point, LineString, mapping\n",
    "from sklearn.cluster import DBSCAN\n",
    "from sklearn.ensemble import IsolationForest\n",
    "from tqdm import tqdm"
   ]
  },
  {
   "cell_type": "markdown",
   "id": "f187c7e8",
   "metadata": {},
   "source": [
    "# data preparation #"
   ]
  },
  {
   "cell_type": "markdown",
   "id": "4eaf7ae7",
   "metadata": {},
   "source": [
    "# SPEED #"
   ]
  },
  {
   "cell_type": "code",
   "execution_count": null,
   "id": "2d8829e8",
   "metadata": {},
   "outputs": [],
   "source": [
    "#uploading the data\n",
    "\n",
    "slow_speed = pd.read_csv(path)"
   ]
  },
  {
   "cell_type": "code",
   "execution_count": null,
   "id": "0eaf8ca1",
   "metadata": {},
   "outputs": [],
   "source": [
    "#group speed data by MMSI and aggregate relevant columns\n",
    "grouped_slow_speed = slow_speed.groupby(\"MMSI\").agg(\n",
    "    \n",
    "    IMO =(\"IMO\", \"first\"),\n",
    "    counts_slow_speed=(\"MMSI\", \"size\"),\n",
    "    sum_telco=(\"ss_near_telco_cable\", \"sum\"),\n",
    "    sum_power=(\"ss_near_power_cable\", \"sum\"),\n",
    "    sum_gas=(\"ss_near_gas_pipe\", \"sum\"),\n",
    "\n",
    ").reset_index()"
   ]
  },
  {
   "cell_type": "code",
   "execution_count": null,
   "id": "3fb73ffc",
   "metadata": {},
   "outputs": [],
   "source": [
    "#drop duplicates based on MMSI and IMO\n",
    "grouped_slow_speed = grouped_slow_speed.drop_duplicates(subset=[\"MMSI\", \"IMO\"])"
   ]
  },
  {
   "cell_type": "markdown",
   "id": "9cb09451",
   "metadata": {},
   "source": [
    "NULL SPEED"
   ]
  },
  {
   "cell_type": "code",
   "execution_count": null,
   "id": "b5c5fc3d",
   "metadata": {},
   "outputs": [],
   "source": [
    "null_speed = pd.read_csv('null_speed_near_infra.csv')"
   ]
  },
  {
   "cell_type": "code",
   "execution_count": null,
   "id": "97e7347d",
   "metadata": {},
   "outputs": [],
   "source": [
    "#group speed data by MMSI and aggregate relevant columns\n",
    "grouped_null_speed = null_speed.groupby(\"MMSI\").agg(\n",
    "    IMO =(\"IMO\", \"first\"),\n",
    "    counts_null_speed=(\"MMSI\", \"size\"),\n",
    "    sum_telco=(\"ns_near_telco_cable\", \"sum\"),\n",
    "    sum_power=(\"ns_near_power_cable\", \"sum\"),\n",
    "    sum_gas=(\"ns_near_gas_pipe\", \"sum\"),\n",
    "\n",
    ").reset_index()"
   ]
  },
  {
   "cell_type": "code",
   "execution_count": null,
   "id": "03e798e8",
   "metadata": {},
   "outputs": [],
   "source": [
    "#drop duplicates based on MMSI and IMO\n",
    "grouped_null_speed = grouped_null_speed.drop_duplicates(subset=[\"MMSI\", \"IMO\"])"
   ]
  },
  {
   "cell_type": "code",
   "execution_count": null,
   "id": "e6718540",
   "metadata": {},
   "outputs": [],
   "source": [
    "# merging dataframes on MMSI\n",
    "merged_df = pd.merge(grouped_slow_speed, grouped_null_speed, on=\"MMSI\", suffixes=(\"_slow\", \"_null\"), how=\"outer\")\n",
    "merged_df.head()"
   ]
  },
  {
   "cell_type": "code",
   "execution_count": null,
   "id": "50ab008f",
   "metadata": {},
   "outputs": [],
   "source": [
    "#drop duplicates\n",
    "merged_df = merged_df.drop_duplicates(subset=[\"MMSI\", \"IMO_null\",\"IMO_slow\"])"
   ]
  },
  {
   "cell_type": "code",
   "execution_count": null,
   "id": "5d4d14ad",
   "metadata": {},
   "outputs": [],
   "source": [
    "# filling empty values with 0\n",
    "merged_df.fillna(0, inplace=True)\n"
   ]
  },
  {
   "cell_type": "code",
   "execution_count": null,
   "id": "3b716bfa",
   "metadata": {},
   "outputs": [],
   "source": [
    "# columns to convert to int\n",
    "cols_to_convert = [\n",
    "    \"IMO_slow\",\n",
    "    \"counts_slow_speed\",\n",
    "    \"sum_telco_slow\",\n",
    "    \"sum_power_slow\",\n",
    "    \"sum_gas_slow\",\n",
    "\n",
    "    \"counts_null_speed\",\n",
    "    \"sum_telco_null\",\n",
    "    \"sum_power_null\",\n",
    "    \"sum_gas_null\",\n",
    "]\n",
    "# converting specified columns to int\n",
    "merged_df[cols_to_convert] = merged_df[cols_to_convert].astype(int)"
   ]
  },
  {
   "cell_type": "code",
   "execution_count": null,
   "id": "68352c1e",
   "metadata": {},
   "outputs": [],
   "source": [
    "# renamin columns\n",
    "merged_df.rename(columns={ 'IMO_slow': 'IMO'}, inplace=True)\n"
   ]
  },
  {
   "cell_type": "code",
   "execution_count": null,
   "id": "a7fd0c94",
   "metadata": {},
   "outputs": [],
   "source": [
    "# rename dataframe\n",
    "speed_anomalies_agg_df = merged_df"
   ]
  },
  {
   "cell_type": "markdown",
   "id": "acccb453",
   "metadata": {},
   "source": [
    "# CHANGE OF COURSE #\n"
   ]
  },
  {
   "cell_type": "code",
   "execution_count": null,
   "id": "d99e0e4a",
   "metadata": {},
   "outputs": [],
   "source": [
    "#upload course changes anomalies data\n",
    "cc_df = pd.read_csv('large_changes_course_anomalies.csv')"
   ]
  },
  {
   "cell_type": "code",
   "execution_count": null,
   "id": "c54bc83e",
   "metadata": {},
   "outputs": [],
   "source": [
    "#grouping the data by MMSI and aggregating the necessary columns\n",
    "grouped_cc = cc_df.groupby(\"MMSI\").agg(\n",
    "    counts_cc=(\"MMSI\", \"size\"),\n",
    "    sum_telco_cc=(\"cc_near_telco_cable\", \"sum\"),\n",
    "    sum_power_cc=(\"cc_near_power_cable\", \"sum\"),\n",
    "    sum_gas_cc=(\"cc_near_gas_pipe\", \"sum\"),\n",
    "   \n",
    ").reset_index()"
   ]
  },
  {
   "cell_type": "code",
   "execution_count": null,
   "id": "f425b47d",
   "metadata": {},
   "outputs": [],
   "source": [
    "# uploading zigzagging anomalies\n",
    "zz_df = pd.read_csv('sliding_window_results_with_infra.csv')"
   ]
  },
  {
   "cell_type": "code",
   "execution_count": null,
   "id": "dc0be167",
   "metadata": {},
   "outputs": [],
   "source": [
    "#grouping the data by MMSI and aggregating the necessary columns\n",
    "grouped_zz = zz_df.groupby(\"MMSI\").agg(\n",
    "    counts_zz=(\"MMSI\", \"size\"),\n",
    "    sum_telco_zz=(\"zz_near_telco_cable\", \"sum\"),\n",
    "    sum_power_zz=(\"zz_near_power_cable\", \"sum\"),\n",
    "    sum_gas_zz=(\"zz_near_gas_pipe\", \"sum\"),\n",
    "\n",
    ").reset_index()"
   ]
  },
  {
   "cell_type": "code",
   "execution_count": null,
   "id": "b30c6ed3",
   "metadata": {},
   "outputs": [],
   "source": [
    "# merging the two dataframes on MMSI\n",
    "course_anomalies_df = pd.merge(grouped_cc, grouped_zz, on=\"MMSI\", how=\"outer\")\n"
   ]
  },
  {
   "cell_type": "code",
   "execution_count": null,
   "id": "33a79094",
   "metadata": {},
   "outputs": [],
   "source": [
    "# filling empty values with 0\n",
    "course_anomalies_df.fillna(0, inplace=True)"
   ]
  },
  {
   "cell_type": "code",
   "execution_count": null,
   "id": "f5dc88c8",
   "metadata": {},
   "outputs": [],
   "source": [
    "# merge speed anomalies aggregated and course anomalies aggregated dataframes on MMSI\n",
    "course_and_speed_anomalies_df = pd.merge(speed_anomalies_agg_df, course_anomalies_df, on=\"MMSI\", how=\"outer\")\n",
    "course_and_speed_anomalies_df.fillna(0, inplace=True)\n"
   ]
  },
  {
   "cell_type": "code",
   "execution_count": null,
   "id": "b9180be7",
   "metadata": {},
   "outputs": [],
   "source": [
    "# dropping dulicates based on MMSI and IMO\n",
    "course_and_speed_anomalies_df = course_and_speed_anomalies_df.drop_duplicates(subset=[\"MMSI\", \"IMO\"])"
   ]
  },
  {
   "cell_type": "markdown",
   "id": "01135fbe",
   "metadata": {},
   "source": [
    "# GOING DARK #"
   ]
  },
  {
   "cell_type": "code",
   "execution_count": null,
   "id": "3c0a4bed",
   "metadata": {},
   "outputs": [],
   "source": [
    "# uploading going dark data\n",
    "dark_df = pd.read_csv('going_dark_with_infra.csv')"
   ]
  },
  {
   "cell_type": "code",
   "execution_count": null,
   "id": "2fb42702",
   "metadata": {},
   "outputs": [],
   "source": [
    "# grouping the data by MMSI and aggregating the necessary columns\n",
    "grouped_dark = dark_df.groupby(\"MMSI\").agg(\n",
    "    counts_dark=(\"MMSI\", \"size\"),\n",
    "    sum_telco_dark=(\"dark_near_telco_cable\", \"sum\"),\n",
    "    sum_power_dark=(\"dark_near_power_cable\", \"sum\"),\n",
    "    sum_gas_dark=(\"dark_near_gas_pipe\", \"sum\"),\n",
    "\n",
    ").reset_index()"
   ]
  },
  {
   "cell_type": "markdown",
   "id": "1037c162",
   "metadata": {},
   "source": [
    "# ALL TOGETHER #"
   ]
  },
  {
   "cell_type": "code",
   "execution_count": null,
   "id": "69e4834c",
   "metadata": {},
   "outputs": [],
   "source": [
    "# merging aggregated anomalies dataframe with going dark anomalies dataframe on MMSI\n",
    "all_anomalies_df = pd.merge(course_and_speed_anomalies_df, grouped_dark, on=\"MMSI\", how=\"outer\")\n",
    "all_anomalies_df.fillna(0, inplace=True)\n"
   ]
  },
  {
   "cell_type": "code",
   "execution_count": null,
   "id": "7b4a1bd4",
   "metadata": {},
   "outputs": [],
   "source": [
    "# tranforming IMO column to int\n",
    "all_anomalies_df[\"IMO\"] = all_anomalies_df[\"IMO\"].astype(int)"
   ]
  },
  {
   "cell_type": "code",
   "execution_count": null,
   "id": "b77d6c2b",
   "metadata": {},
   "outputs": [],
   "source": [
    "#drop duplicates based on MMSI and IMO\n",
    "all_anomalies_df = all_anomalies_df.drop_duplicates(subset=[\"MMSI\", \"IMO\"])"
   ]
  },
  {
   "cell_type": "markdown",
   "id": "532d0a18",
   "metadata": {},
   "source": [
    "# static anomalies #\n"
   ]
  },
  {
   "cell_type": "markdown",
   "id": "81226181",
   "metadata": {},
   "source": [
    "# flag of convienience #"
   ]
  },
  {
   "cell_type": "code",
   "execution_count": null,
   "id": "f46d8f2b",
   "metadata": {},
   "outputs": [],
   "source": [
    "# uploading the main dataframe \n",
    "df_flag = pd.read_csv('fin_data_with_area.csv')"
   ]
  },
  {
   "cell_type": "code",
   "execution_count": null,
   "id": "fc25bf13",
   "metadata": {},
   "outputs": [],
   "source": [
    "# creating a list of flag of convenience countries with Russia too\n",
    "flag_of_convience = [\n",
    "    \"Antigua and Barbuda\",\n",
    "    \"Bahamas\",\n",
    "    \"Barbados\",\n",
    "    \"Belize\",\n",
    "    \"Bermuda\",\n",
    "    \"Bolivia\",\n",
    "    \"Cameroon\",\n",
    "    \"Cayman Islands\",\n",
    "    \"Comoros\",\n",
    "    \"Cook Islands\",\n",
    "    \"Curacao\",\n",
    "    \"Cyprus\",\n",
    "    \"Equatorial Guinea\",\n",
    "    \"Eswatini\",\n",
    "    \"Faroe Islands\",\n",
    "    \"French International Ship Registry (FIS)\",\n",
    "    \"Gabon\",\n",
    "    \"German International Ship Registry (GIS)\",\n",
    "    \"Georgia\",\n",
    "    \"Gibraltar\",\n",
    "    \"Honduras\",\n",
    "    \"Jamaica\",\n",
    "    \"Lebanon\",\n",
    "    \"Liberia\",\n",
    "    \"Malta\",\n",
    "    \"Madeira\",\n",
    "    \"Marshall Islands\",\n",
    "    \"Mauritius\",\n",
    "    \"Moldova\",\n",
    "    \"Mongolia\",\n",
    "    \"Myanmar\",\n",
    "    \"North Korea\",\n",
    "    \"Palau\",\n",
    "    \"Panama\",\n",
    "    \"San Marino\",\n",
    "    'Sao Tome & Principe',\n",
    "    \"Sierra Leone\",\n",
    "    \"St Vincent\",\n",
    "    \"Sri Lanka\",\n",
    "    \"Tanzania\",\n",
    "    \"Togo\",\n",
    "    \"Vanuatu\"\n",
    "    \"Russia\",\n",
    "    'Saint Kitts & Nevis'\n",
    "]"
   ]
  },
  {
   "cell_type": "code",
   "execution_count": null,
   "id": "029f1bc0",
   "metadata": {},
   "outputs": [],
   "source": [
    "# creating a dataframe for flags of convenience\n",
    "df_flags_subset = df_flag[['MMSI', 'IMO', 'FLAGNAME']]"
   ]
  },
  {
   "cell_type": "code",
   "execution_count": null,
   "id": "ad97dafa",
   "metadata": {},
   "outputs": [],
   "source": [
    "# cretaing new variable FOC with 1 if the flag is a flag of convenience, otherwise 0\n",
    "df_flags_subset['FOC'] = df_flag['FLAGNAME'].apply(lambda x: 1 if x in flag_of_convience else 0)"
   ]
  },
  {
   "cell_type": "code",
   "execution_count": null,
   "id": "f7d047d1",
   "metadata": {},
   "outputs": [],
   "source": [
    "# dropping duplicates and resetting the index\n",
    "df_flags_subset = df_flags_subset.drop_duplicates(subset=[\"MMSI\", \"IMO\"])\n",
    "df_flags_subset.reset_index(drop=True, inplace=True)"
   ]
  },
  {
   "cell_type": "markdown",
   "id": "6c328b5b",
   "metadata": {},
   "source": [
    "# MMSI CHANGE #"
   ]
  },
  {
   "cell_type": "code",
   "execution_count": null,
   "id": "47ea6501",
   "metadata": {},
   "outputs": [],
   "source": [
    "# uploading the main dataframe\n",
    "change_of_mmsi = pd.read_csv('fin_data_with_area.csv')"
   ]
  },
  {
   "cell_type": "code",
   "execution_count": null,
   "id": "238c4e18",
   "metadata": {},
   "outputs": [],
   "source": [
    "\n",
    "# Grouping the data by IMO and counting unique MMSI\n",
    "imo_counts = change_of_mmsi.groupby(\"IMO\")[\"MMSI\"].nunique().reset_index()\n",
    "\n",
    "# filtering the IMO counts to find those with more than one unique MMSI\n",
    "imo_multiple = imo_counts[imo_counts[\"MMSI\"] > 1]\n",
    "\n"
   ]
  },
  {
   "cell_type": "code",
   "execution_count": null,
   "id": "4ab28d2d",
   "metadata": {},
   "outputs": [],
   "source": [
    "# resetting the index\n",
    "imo_multiple.reset_index(drop=True, inplace=True)"
   ]
  },
  {
   "cell_type": "code",
   "execution_count": null,
   "id": "eb956b5d",
   "metadata": {},
   "outputs": [],
   "source": [
    "# rename the column for clarity\n",
    "imo_multiple.rename(columns={\"MMSI\": \"MMSI_CHANGES\"}, inplace=True)"
   ]
  },
  {
   "cell_type": "code",
   "execution_count": null,
   "id": "5987a82e",
   "metadata": {},
   "outputs": [],
   "source": [
    "# creating a dataframe with oinly IMO\n",
    "to_merge = pd.DataFrame(change_of_mmsi, columns=['IMO'])"
   ]
  },
  {
   "cell_type": "code",
   "execution_count": null,
   "id": "1ee7c490",
   "metadata": {},
   "outputs": [],
   "source": [
    "#merging the IMO multiple changes dataframe with the to_merge dataframe that =contains IMO and filling NaN values with 0\n",
    "merged_change_imo = pd.merge(to_merge, imo_multiple, on=\"IMO\", how=\"outer\")\n",
    "merged_change_imo.fillna(0, inplace=True)"
   ]
  },
  {
   "cell_type": "code",
   "execution_count": null,
   "id": "f51256de",
   "metadata": {},
   "outputs": [],
   "source": [
    "# merging dataframes on IMO\n",
    "merged_FOC_and_MMSI = pd.merge(df_flags_subset, merged_change_imo, on=\"IMO\", how=\"outer\")\n",
    "merged_FOC_and_MMSI.fillna(0, inplace=True)"
   ]
  },
  {
   "cell_type": "code",
   "execution_count": null,
   "id": "9dfb1cbe",
   "metadata": {},
   "outputs": [],
   "source": [
    "# drop duplicates based on MMSI and IMO\n",
    "merged_FOC_and_MMSI = merged_FOC_and_MMSI.drop_duplicates(subset=[\"MMSI\", \"IMO\"])"
   ]
  },
  {
   "cell_type": "markdown",
   "id": "815d7dd5",
   "metadata": {},
   "source": [
    "# OLDER VESSEL #"
   ]
  },
  {
   "cell_type": "code",
   "execution_count": null,
   "id": "97c6c4a6",
   "metadata": {},
   "outputs": [],
   "source": [
    "# uploading data of main dataframe\n",
    "old =  pd.read_csv('fin_data_with_area.csv')"
   ]
  },
  {
   "cell_type": "code",
   "execution_count": null,
   "id": "627e76b2",
   "metadata": {},
   "outputs": [],
   "source": [
    "# creating dataframe with only relevant columns\n",
    "new_old = old[['MMSI', 'IMO', 'BUILT']]"
   ]
  },
  {
   "cell_type": "code",
   "execution_count": null,
   "id": "f9c69bb7",
   "metadata": {},
   "outputs": [],
   "source": [
    "# dropping duplicates\n",
    "new_old = new_old.drop_duplicates(subset=[\"MMSI\", \"IMO\"])\n"
   ]
  },
  {
   "cell_type": "code",
   "execution_count": null,
   "id": "cb8dfa48",
   "metadata": {},
   "outputs": [],
   "source": [
    "# assigning binary variable OLDER15Y based on the year of built\n",
    "current_year = datetime.datetime.now().year  \n",
    "new_old[\"OLDER15Y\"] = np.where(current_year - new_old[\"BUILT\"] > 15, 1, 0)"
   ]
  },
  {
   "cell_type": "code",
   "execution_count": null,
   "id": "ce099161",
   "metadata": {},
   "outputs": [],
   "source": [
    "#merging  the dataframes\n",
    "static_merged = pd.merge(merged_FOC_and_MMSI, new_old, on=\"MMSI\", how=\"outer\")"
   ]
  },
  {
   "cell_type": "code",
   "execution_count": null,
   "id": "7a12a103",
   "metadata": {},
   "outputs": [],
   "source": [
    "# drop irrelevantt columns\n",
    "new_static_merged = static_merged.drop(columns=[\"IMO_x\", \"IMO_y\"])\n"
   ]
  },
  {
   "cell_type": "code",
   "execution_count": null,
   "id": "425a428d",
   "metadata": {},
   "outputs": [],
   "source": [
    "#dropping duplicates\n",
    "new_static_merged = new_static_merged.drop_duplicates(subset=[\"MMSI\", \"IMO\"])"
   ]
  },
  {
   "cell_type": "markdown",
   "id": "0dbc2994",
   "metadata": {},
   "source": [
    "# FINAL #"
   ]
  },
  {
   "cell_type": "code",
   "execution_count": null,
   "id": "5b6a49c4",
   "metadata": {},
   "outputs": [],
   "source": [
    "# merging the dataframes to create the final dataframe\n",
    "final_to_cluster = pd.merge(all_anomalies_df, new_static_merged, on=\"MMSI\", how=\"outer\")"
   ]
  },
  {
   "cell_type": "code",
   "execution_count": null,
   "id": "23337bb0",
   "metadata": {},
   "outputs": [],
   "source": [
    "# filling NaN values with 0\n",
    "final_to_cluster.fillna(0, inplace=True)"
   ]
  },
  {
   "cell_type": "code",
   "execution_count": null,
   "id": "e848f10d",
   "metadata": {},
   "outputs": [],
   "source": [
    "# dropping duplicates\n",
    "final_to_cluster = final_to_cluster.drop_duplicates(subset=[\"MMSI\", \"IMO\"])\n"
   ]
  }
 ],
 "metadata": {
  "kernelspec": {
   "display_name": "Python 3",
   "language": "python",
   "name": "python3"
  },
  "language_info": {
   "codemirror_mode": {
    "name": "ipython",
    "version": 3
   },
   "file_extension": ".py",
   "mimetype": "text/x-python",
   "name": "python",
   "nbconvert_exporter": "python",
   "pygments_lexer": "ipython3",
   "version": "3.11.4"
  }
 },
 "nbformat": 4,
 "nbformat_minor": 5
}
